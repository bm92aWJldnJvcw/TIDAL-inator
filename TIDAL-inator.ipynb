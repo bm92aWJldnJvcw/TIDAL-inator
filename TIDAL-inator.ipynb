{
  "nbformat": 4,
  "nbformat_minor": 0,
  "metadata": {
    "colab": {
      "name": "TIDAL-inator.ipynb",
      "provenance": [],
      "collapsed_sections": []
    },
    "kernelspec": {
      "name": "python3",
      "display_name": "Python 3"
    }
  },
  "cells": [
    {
      "cell_type": "markdown",
      "metadata": {
        "id": "E69ljQGM5F13"
      },
      "source": [
        "<code>presenting <a href=\"https://github.com/bm92aWJldnJvcw/TIDAL-inator\"><font color=\"#ffce42\">`TIDAL-inator`</font></a> by <font color=\"#ffce42\">ThunderHare</font></code>\n"
      ]
    },
    {
      "cell_type": "code",
      "metadata": {
        "id": "CSv9DHvnekSF",
        "cellView": "form"
      },
      "source": [
        "#@markdown <br><center><img src='https://ssl.gstatic.com/images/branding/product/2x/hh_drive_96dp.png' height=\"50\" alt=\"google-drive-logo\"/></center>\n",
        "#@markdown <center><code>CONNECT/DISCONNECT GOOGLE DRIVE</code></center><br>\n",
        "MODE = \"MOUNT\" #@param [\"MOUNT\", \"UNMOUNT\"]\n",
        "FORCE_MOUNT = False #@param {type:\"boolean\"}\n",
        "\n",
        "from google.colab import drive\n",
        "drive.mount._DEBUG = False\n",
        "if MODE == \"MOUNT\":\n",
        "  if FORCE_MOUNT == True:\n",
        "    drive.mount('/content/drive', force_remount=True)\n",
        "  else:\n",
        "    drive.mount('/content/drive')\n",
        "elif MODE == \"UNMOUNT\":\n",
        "  try:\n",
        "    drive.flush_and_unmount()\n",
        "  except ValueError:\n",
        "    pass\n",
        "  get_ipython().system_raw(\"rm -rf /root/.config/Google/DriveFS\")"
      ],
      "execution_count": null,
      "outputs": []
    },
    {
      "cell_type": "code",
      "metadata": {
        "id": "VwLpJBKUNqX_",
        "cellView": "form"
      },
      "source": [
        "# @markdown ⬅️ click to run\n",
        "# @markdown <br><center><img src='https://user-images.githubusercontent.com/68984972/113110789-174a4a80-91cd-11eb-8b84-c7551f820928.png' height=\"100\" alt=\"redsea\"/></center>\n",
        "\n",
        "from IPython.display import clear_output\n",
        "from google.colab import files\n",
        "import os\n",
        "import re\n",
        "\n",
        "# @markdown <font size=3px>make sure to run install mode before download mode</font>\n",
        "\n",
        "MODE = \"INSTALL\" #@param [\"INSTALL\", \"DOWNLOAD\"]\n",
        "# @markdown <br>\n",
        "LINK = \"\" #@param {type:\"string\"}\n",
        "# @markdown <br>\n",
        "DOWNLOAD_LOCATION = \"\" #@param {type:\"string\"}\n",
        "# @markdown <font size=3px>default: \"/content/drive/MyDrive/RedSea downloads\"</font>\n",
        "\n",
        "# @markdown <br><center>ADVANCED</center>\n",
        "# @markdown <font size=3px>remember, set everything you want to, in one go :')</font>\n",
        "\n",
        "FILE = False #@param {type:\"boolean\"}\n",
        "\n",
        "SESSIONS_FILE = False #@param {type:\"boolean\"}\n",
        "\n",
        "SETTINGS_FILE = False #@param {type:\"boolean\"}\n",
        "\n",
        "BRUTEFORCE = False #@param {type:\"boolean\"}\n",
        "\n",
        "RESUMEON = False #@param {type:\"boolean\"}\n",
        "\n",
        "if MODE == \"INSTALL\":\n",
        "   if not os.path.exists(\"/content/RedSea/\"):\n",
        "       print(\"Installing RedSea...\")\n",
        "       !git clone https://github.com/Dniel97/RedSea.git\n",
        "       !pip install -r '/content/RedSea/requirements.txt'\n",
        "       clear_output()\n",
        "       print(\"RedSea installed!\")\n",
        "\n",
        "   elif os.path.exists(\"/content/RedSea\"):\n",
        "       !cd /content/RedSea/ && git checkout .\n",
        "   !mv '/content/RedSea/config/settings.example.py' '/content/RedSea/config/settings.py'\n",
        "\n",
        "elif MODE == \"DOWNLOAD\":\n",
        "   if FILE:\n",
        "     print(\"please upload URLs list file:\")\n",
        "     uploadedFile = files.upload()\n",
        "     for fn in uploadedFile.keys():\n",
        "       print('You uploaded file \"{name}\" with length {length} bytes'.format(\n",
        "           name=fn, length=len(uploadedFile[fn])))\n",
        "     FILE = '-f \"/content/' + fn + '\"'\n",
        "     LINK = ''\n",
        "   else:\n",
        "     FILE = ''\n",
        "   if SESSIONS_FILE:\n",
        "     print(\"please upload your sessions.pk file:\")\n",
        "     uploadedFile = files.upload()\n",
        "     for fn in uploadedFile.keys():\n",
        "       print('You uploaded sessions file \"{name}\" with length {length} bytes'.format(\n",
        "           name=fn, length=len(uploadedFile[fn])))\n",
        "     file_path = '\"/content/' + fn + '\"'\n",
        "     !cp {file_path} '/content/RedSea/config/sessions.pk'\n",
        "   if SETTINGS_FILE:\n",
        "     print(\"please upload your settings file:\")\n",
        "     uploadedFile = files.upload()\n",
        "     for fn in uploadedFile.keys():\n",
        "       print('You uploaded settings file \"{name}\" with length {length} bytes'.format(\n",
        "           name=fn, length=len(uploadedFile[fn])))\n",
        "     file_path = '\"/content/' + fn + '\"'\n",
        "     !cp {file_path} '/content/RedSea/config/settings.py'\n",
        "   if DOWNLOAD_LOCATION:\n",
        "     print(\"custom DOWNLOAD_LOCATION set.\")\n",
        "   else:\n",
        "     os.makedirs(\"/content/drive/MyDrive/RedSea downloads\", exist_ok=True)\n",
        "     DOWNLOAD_LOCATION = \"/content/drive/MyDrive/RedSea downloads/\"\n",
        "   with open('/content/RedSea/config/settings.py', 'r') as file :\n",
        "     filedata = file.read()\n",
        "   filedata = re.sub(r'path =.+', r'path = \"' + DOWNLOAD_LOCATION + r'\"', filedata)\n",
        "   with open('/content/RedSea/config/settings.py', 'w') as file:\n",
        "     file.write(filedata)\n",
        "   if BRUTEFORCE:\n",
        "     BRUTE = f' -b '\n",
        "   else:\n",
        "     BRUTE = ''\n",
        "   if RESUMEON:\n",
        "     RESUMEON = f'--resumeon '\n",
        "   else:\n",
        "     RESUMEON = ''\n",
        "\n",
        "   !python /content/RedSea/redsea.py {LINK}{BRUTE}{RESUMEON}{FILE}"
      ],
      "execution_count": null,
      "outputs": []
    },
    {
      "cell_type": "code",
      "metadata": {
        "id": "X5USFjjGRrHk",
        "cellView": "form"
      },
      "source": [
        "# @markdown <br><center><img src='https://mediaarea.net/images/45c0bef-4232555.png' height=\"80\" alt=\"mediainfo\"/></center>\n",
        "# @markdown <center><code>MediaInfo</code></center><br>\n",
        "\n",
        "from IPython.display import clear_output\n",
        "import apt\n",
        "cache = apt.Cache()\n",
        "if not cache['mediainfo'].is_installed:\n",
        "   print(\"Installing MediaInfo...\")\n",
        "   !apt install mediainfo\n",
        "   clear_output()\n",
        "   \n",
        "FILE_PATH = \"\" #@param {type:\"string\"}\n",
        "\n",
        "!mediainfo \"{FILE_PATH}\""
      ],
      "execution_count": null,
      "outputs": []
    },
    {
      "cell_type": "markdown",
      "metadata": {
        "id": "EFhJrKTSYTq5"
      },
      "source": [
        "<code>based on <font color=\"#69c84c\">RedSea</font> which is maintained by <a href=\"https://github.com/Dniel97\"><font color=\"#a05fc3\">Dniel97</font></a> and <a href=\"https://github.com/zpoo32\"><font color=\"#f54236\">zpoo32</font></a> at</code>\n",
        "\n",
        "<a href=\"https://t.me/RedSea_Community\"><img src='https://telegram.org/img/t_logo.svg' height=\"60\" alt=\"telegram group\"/></a><a href=\"https://github.com/Dniel97/RedSea\"><img src='https://github.com/fluidicon.png' height=\"60\" alt=\"github\"/></a>\n"
      ]
    }
  ]
}
